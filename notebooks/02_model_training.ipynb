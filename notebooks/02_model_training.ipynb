{
 "cells": [
  {
   "cell_type": "code",
   "execution_count": null,
   "id": "5b156dc9",
   "metadata": {
    "vscode": {
     "languageId": "plaintext"
    }
   },
   "outputs": [],
   "source": [
    "{\n",
    " \"cells\": [\n",
    "  {\n",
    "   \"cell_type\": \"markdown\",\n",
    "   \"metadata\": {},\n",
    "   \"source\": [\"# 02. AI Model Training for LCA Parameter Estimation\"]\n",
    "  },\n",
    "  {\n",
    "   \"cell_type\": \"code\",\n",
    "   \"execution_count\": null,\n",
    "   \"metadata\": {},\n",
    "   \"outputs\": [],\n",
    "   \"source\": [\n",
    "    \"import pandas as pd\\nimport numpy as np\\nimport joblib\\nfrom sklearn.model_selection import train_test_split\\nfrom sklearn.pipeline import Pipeline\\nfrom sklearn.preprocessing import OneHotEncoder\\nfrom sklearn.impute import SimpleImputer\\nfrom sklearn.compose import ColumnTransformer\\nfrom xgboost import XGBRegressor\\n\\n# This notebook trains the model on the generated synthetic data.\\n# The live data is used during inference time in the backend, not during training.\\n\\nDATA_PATH = \\\"../data/sample_synthetic.csv\\\"\\ndf = pd.read_csv(DATA_PATH)\\n\\nTARGET = 'energy_intensity_MJ_per_tonne'\\nFEATURES = ['metal', 'route', 'country', 'energy_mix_fossil', 'production_tonnes', 'recycling_rate', 'transport_km', 'scrap_return_tonnes']\\n\\ndf_clean = df.dropna(subset=[TARGET]).copy()\\nX = df_clean[FEATURES]\\ny = df_clean[TARGET]\\n\\nX_train, X_test, y_train, y_test = train_test_split(X, y, test_size=0.2, random_state=42)\\n\\ncat_cols = X.select_dtypes(include=['object']).columns.tolist()\\nnum_cols = X.select_dtypes(include=np.number).columns.tolist()\\n\\nnumeric_transformer = SimpleImputer(strategy='median')\\ncategorical_transformer = Pipeline(steps=[\\n    ('imputer', SimpleImputer(strategy='most_frequent')),\\n    ('onehot', OneHotEncoder(handle_unknown='ignore'))\\n])\\n\\npreprocessor = ColumnTransformer(transformers=[\\n    ('num', numeric_transformer, num_cols),\\n    ('cat', categorical_transformer, cat_cols)\\n])\\n\\nmodel_pipeline = Pipeline(steps=[\\n    ('preprocessor', preprocessor),\\n    ('regressor', XGBRegressor(n_estimators=200, learning_rate=0.05, random_state=42))\\n])\\n\\nmodel_pipeline.fit(X_train, y_train)\\n\\nMODEL_OUTPUT_PATH = \\\"../models/lca_model.pkl\\\"\\njoblib.dump(model_pipeline, MODEL_OUTPUT_PATH)\\nprint(f'Model saved to {MODEL_OUTPUT_PATH}')\"\n",
    "   ]\n",
    "  }\n",
    " ],\n",
    " \"metadata\": {},\n",
    " \"nbformat\": 4,\n",
    " \"nbformat_minor\": 2\n",
    "}"
   ]
  }
 ],
 "metadata": {
  "language_info": {
   "name": "python"
  }
 },
 "nbformat": 4,
 "nbformat_minor": 5
}
